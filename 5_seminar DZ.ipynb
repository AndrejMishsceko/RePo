{
 "cells": [
  {
   "attachments": {},
   "cell_type": "markdown",
   "metadata": {},
   "source": [
    "# Домашнее работа\n",
    "#### Задача 1. Когда используется критерий Стьюдента, а когда Z –критерий?\n",
    "#### Критерий Стьюдента используется для проверки гипотезы о равенстве средних значений двух генеральных совокупностей, когда размеры выборок малы или неизвестны дисперсии совокупностей.\n",
    "#### Z-критерий используется для проверки гипотезы о равенстве средних значений двух генеральных совокупностей, когда размеры выборок большие и дисперсии совокупностей известны.\n"
   ]
  },
  {
   "attachments": {},
   "cell_type": "markdown",
   "metadata": {},
   "source": [
    "### Задача 2\n",
    "\n",
    "#### Проведите тест гипотезы. Утверждается, что шарики для подшипников, изготовленные\n",
    "#### автоматическим станком, имеют средний диаметр 17 мм.\n",
    "#### Используя односторонний критерий с α=0,05, проверить эту гипотезу, если в выборке из\n",
    "#### n=100 шариков средний диаметр\n",
    "#### оказался равным 17.5 мм, а дисперсия известна и равна 4 кв. мм."
   ]
  },
  {
   "cell_type": "code",
   "execution_count": 2,
   "metadata": {},
   "outputs": [],
   "source": [
    "import numpy as np\n",
    "import pandas as pd\n",
    "from scipy import stats"
   ]
  },
  {
   "cell_type": "markdown",
   "metadata": {},
   "source": [
    "#### Решение:\n",
    "\n",
    "Гипотеза $H_0$: $M(X) = 17$, \n",
    "\n",
    "Гипотеза $H_1$: $M(X) = 17.5$, \n",
    "\n",
    "Уровень значимости $\\alpha = 0.025$ при правосторонней критической области $\\Omega_\\alpha = (t_{1 - \\alpha}, \\infty)$,\n",
    "\n",
    "Дисперсия $D(X) = 4$, \n",
    "\n",
    "n = 100,\n",
    "\n",
    "Из центральной предельной теоремы мы знаем как определяются $a$ и $\\sigma$:\n",
    "\n",
    "$a = M(X), \\text{ } \\sigma = \\sqrt {\\frac{D(X)}{n}}.$"
   ]
  },
  {
   "cell_type": "markdown",
   "metadata": {},
   "source": [
    "Поскольку выборка из 100 шариков распределена нормально, можно воспользоваться правилом двух сигм: значения диаметра шариков с вероятностью 0.95 попадают в интервал\n",
    "\n",
    "$\\left( 17 - 2 \\cdot \\sqrt{\\frac{D(X)}{n}}, 17 + 2 \\cdot \\sqrt{\\frac{D(X)}{n}} \\right).$\n",
    "\n",
    "Для нашего выбора $\\alpha$ интересует правосторонняя критическая область:\n",
    "\n",
    "$\\left( 17 + 2 \\cdot \\sqrt{\\frac{D(X)}{n}}, \\infty \\right)$\n",
    "\n",
    "Критическая область будет иметь вид:\n",
    "\n",
    "$\\left( 17.4, \\infty \\right)$"
   ]
  },
  {
   "cell_type": "markdown",
   "metadata": {},
   "source": [
    "#### Ответ:\n",
    "\n",
    "Так как выборочное среднее получилось 17.5 и оно попадает в критическую область, то утверждение производителя не подверждается."
   ]
  },
  {
   "attachments": {},
   "cell_type": "markdown",
   "metadata": {},
   "source": [
    "### Задача 3\n",
    "\n",
    "Продавец утверждает, что средний вес пачки печенья составляет 200 г. Из партии извлечена выборка из 10 пачек. Вес каждой пачки составляет:\n",
    "\n",
    "202, 203, 199, 197, 195, 201, 200, 204, 194, 190\n",
    "\n",
    "Известно, что их веса распределены нормально. Верно ли утверждение продавца, если учитывать, что доверительная вероятность равна 99%?"
   ]
  },
  {
   "cell_type": "markdown",
   "metadata": {},
   "source": [
    "#### Решение:\n",
    "\n",
    "$\n",
    "P \\left( \n",
    "\\overline{X} - t_{1 - \\alpha/2, \\: n - 1} \\cdot \\dfrac{S}{\\sqrt{n}} \n",
    "\\leq M(X) \\leq\n",
    "\\overline{X} + t_{1 - \\alpha/2, \\: n - 1} \\cdot \\dfrac{S}{\\sqrt{n}} \n",
    "\\right) = 1 - \\alpha.\n",
    "$"
   ]
  },
  {
   "cell_type": "code",
   "execution_count": 43,
   "metadata": {},
   "outputs": [],
   "source": [
    "n = 10\n",
    "alpha = 0.01\n",
    "\n",
    "samples = np.array([202, 203, 199, 197, 195, 201, 200, 204, 194, 190])"
   ]
  },
  {
   "cell_type": "code",
   "execution_count": 44,
   "metadata": {},
   "outputs": [
    {
     "data": {
      "text/plain": [
       "198.5"
      ]
     },
     "execution_count": 44,
     "metadata": {},
     "output_type": "execute_result"
    }
   ],
   "source": [
    "m = samples.mean()\n",
    "m"
   ]
  },
  {
   "cell_type": "code",
   "execution_count": 45,
   "metadata": {},
   "outputs": [
    {
     "data": {
      "text/plain": [
       "4.453463071962462"
      ]
     },
     "execution_count": 45,
     "metadata": {},
     "output_type": "execute_result"
    }
   ],
   "source": [
    "s = samples.std(ddof=1)\n",
    "s"
   ]
  },
  {
   "cell_type": "code",
   "execution_count": 46,
   "metadata": {},
   "outputs": [],
   "source": [
    "# n-1\n",
    "t_obj = stats.t(n - 1)"
   ]
  },
  {
   "cell_type": "code",
   "execution_count": 47,
   "metadata": {},
   "outputs": [
    {
     "data": {
      "text/plain": [
       "3.2498355440153697"
      ]
     },
     "execution_count": 47,
     "metadata": {},
     "output_type": "execute_result"
    }
   ],
   "source": [
    "# 1 - alpha / 2\n",
    "t = t_obj.ppf(1 - alpha / 2)\n",
    "t"
   ]
  },
  {
   "cell_type": "code",
   "execution_count": 48,
   "metadata": {},
   "outputs": [
    {
     "data": {
      "text/plain": [
       "(193.92322840036354, 203.07677159963646)"
      ]
     },
     "execution_count": 48,
     "metadata": {},
     "output_type": "execute_result"
    }
   ],
   "source": [
    "(m - t * s / np.sqrt(n), m + t * s / np.sqrt(n))"
   ]
  },
  {
   "cell_type": "markdown",
   "metadata": {},
   "source": [
    "#### Ответ:\n",
    "\n",
    "Утверждение продавца верно, т.к. оно попадает в доверительный интервал."
   ]
  },
  {
   "attachments": {},
   "cell_type": "markdown",
   "metadata": {},
   "source": [
    "### Задача 4. \n",
    "Есть ли статистически значимые различия в росте\n",
    "дочерей?\n",
    "\n",
    "Рост матерей 172, 177, 158, 170, 178,175, 164, 160, 169, 165\n",
    "Рост взрослых дочерей: 173, 175, 162, 174, 175, 168, 155, 170, 160, 163"
   ]
  }
 ],
 "metadata": {
  "kernelspec": {
   "display_name": "Python 3",
   "language": "python",
   "name": "python3"
  },
  "language_info": {
   "codemirror_mode": {
    "name": "ipython",
    "version": 3
   },
   "file_extension": ".py",
   "mimetype": "text/x-python",
   "name": "python",
   "nbconvert_exporter": "python",
   "pygments_lexer": "ipython3",
   "version": "3.11.1"
  },
  "vscode": {
   "interpreter": {
    "hash": "d333b96aeaee2c8321780592aea1497636fd2c12a30bd8cc607482360de3cdc0"
   }
  }
 },
 "nbformat": 4,
 "nbformat_minor": 2
}
